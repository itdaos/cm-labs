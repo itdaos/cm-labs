{
 "cells": [
  {
   "cell_type": "markdown",
   "metadata": {},
   "source": [
    "# Computational Methods - Lab 8\n",
    "## *Diffirential equations*\n",
    "Goal: to gain a skill of solving first order diffirential equations numerically\n",
    "\n",
    "1. Use Runge–Kutta method and Adam's method (4-th order) to solve Cauchi task\n",
    "2. Reseacrh error dependence over $h$ \n",
    "\n",
    "The task is to solve this diffirential equation (20 variant)\n",
    "$$\n",
    "y' + 2xy = -2x^3 \\\\\n",
    "y\\,(1) = e^{-1}\n",
    "$$\n",
    "Analytical solution:\n",
    "$$\n",
    "y = -x^2 + 1 + e^{-x^2}\n",
    "$$"
   ]
  },
  {
   "cell_type": "code",
   "execution_count": 19,
   "metadata": {},
   "outputs": [],
   "source": [
    "import numpy as np\n",
    "from math import e\n",
    "from typing import Callable\n",
    "import matplotlib\n",
    "import matplotlib.pyplot as plt\n",
    "\n",
    "# Constants\n",
    "N = 1000\n",
    "X_0 = 1\n",
    "X_1 = X_0 + 1\n",
    "Y_0 = 1/e\n",
    "\n",
    "# solution compoents\n",
    "def goal(x: float) -> float:\n",
    "    return -x**2 + 1 + e ** (- x**2)\n",
    "\n",
    "def df(x: float, y: float) -> float:\n",
    "    return -2 * x**3 - 2*x*y\n",
    "\n",
    "# tests\n",
    "assert goal(1) == 1/e\n",
    "assert df(1, 1) == -4\n",
    "\n",
    "# algos\n",
    "# from lab 7\n",
    "def int_by_trap(func: Callable, a:float, b:float, n=N):\n",
    "    h = (a + b)/n\n",
    "    x1 = np.linspace(a, b-h, n)\n",
    "    x2 = np.linspace(a+h, b, n)\n",
    "    func = np.vectorize(func)\n",
    "    y = (func(x1) + func(x2))\n",
    "    return h/2 * np.sum(y)\n",
    "\n",
    "def runge_kutta(dy: Callable, x_0:float = X_0, x_1: float = X_1, y_0:float = Y_0, n=N):\n",
    "    \n",
    "    h = (x_1 - x_0)/n\n",
    "    x = np.linspace(x_0, x_1, n)\n",
    "    y = y_0 * np.ones(n)\n",
    "    \n",
    "    for i in range(n-1):\n",
    "        x_i = x[i]\n",
    "        y_i = y[i]\n",
    "        k_1 = dy(x_i, y_i)\n",
    "        k_2 = dy(x_i + h/2, y_i + h*k_1/2)\n",
    "        k_3 = dy(x_i + h/2, y_i + h*k_2/2)\n",
    "        k_4 = dy(x_i + h, y_i + h*k_3)\n",
    "        \n",
    "        y[i+1] = y[i] + 1/6*h*(k_1 + 2*k_2 + 2*k_3 + k_4)\n",
    "    \n",
    "    return y\n",
    "\n",
    "def adams(dy: Callable, x_0:float = X_0, x_1: float = X_1, y_start:np.array = np.ones(4), n=N):\n",
    "    \n",
    "    h = (x_1 - x_0)/n\n",
    "    x = np.linspace(x_0, x_1, n)\n",
    "    y = np.ones(n)\n",
    "    y[:4] = y_start\n",
    "    \n",
    "    for i in range(2, n):\n",
    "        y[i] = y[i-1] + h/2 * (3*dy(x[i-1], y[i-1]) - dy(x[i-2], y[i-2]))\n",
    "    return y"
   ]
  },
  {
   "cell_type": "code",
   "execution_count": 23,
   "metadata": {},
   "outputs": [
    {
     "data": {
      "image/png": "[encoded data removed]",
      "text/plain": [
       "<Figure size 432x288 with 1 Axes>"
      ]
     },
     "metadata": {
      "needs_background": "light"
     },
     "output_type": "display_data"
    }
   ],
   "source": [
    "def L2(e, h):\n",
    "    return (np.sum(e**2)) ** 0.5\n",
    "\n",
    "def u_norm(e):\n",
    "    return np.max(e)\n",
    "\n",
    "t = np.arange(6, 1000, 1)\n",
    "v = np.ones(1000-6)\n",
    "b = np.ones(1000-6)\n",
    "\n",
    "f = np.vectorize(goal)\n",
    "\n",
    "\n",
    "for i in range(6, 1000):\n",
    "    x = np.linspace(X_0, X_1, i)\n",
    "    y_t = f(x)\n",
    "    y1 = runge_kutta(df, n=i)\n",
    "    y2 = adams(df, y_start=y_t[:4], n=i)\n",
    "    v[i-6] = L2(abs(y_t - y1), i)\n",
    "    b[i-6] = L2(abs(y_t - y2), i)\n",
    "\n",
    "\n",
    "\n",
    "fig, ax = plt.subplots()\n",
    "ax.plot(t, v)\n",
    "ax.plot(t, b)\n",
    "\n",
    "ax.set(xlabel='number of h', ylabel='L2(e, h)',\n",
    "       title='Error norm')\n",
    "ax.grid()\n",
    "ax.legend([\"Runge-kutta\", \"Adams\"])\n",
    "\n",
    "plt.show()\n"
   ]
  },
  {
   "cell_type": "code",
   "execution_count": 27,
   "metadata": {},
   "outputs": [
    {
     "data": {
      "image/png": "[encoded data removed]",
      "text/plain": [
       "<Figure size 432x288 with 1 Axes>"
      ]
     },
     "metadata": {
      "needs_background": "light"
     },
     "output_type": "display_data"
    }
   ],
   "source": [
    "x = np.linspace(X_0, X_1, N)\n",
    "y_t = f(x)\n",
    "y2 = runge_kutta(df) \n",
    "y = adams(df, y_start=y_t[:4])\n",
    "\n",
    "fig, ax = plt.subplots()\n",
    "ax.plot(x, y2)\n",
    "ax.plot(x, y)\n",
    "\n",
    "ax.set(xlabel='x', ylabel='y')\n",
    "ax.grid()\n",
    "ax.legend([\"Runge-kutta\", \"Adams\"])\n",
    "\n",
    "plt.show()"
   ]
  },
  {
   "cell_type": "code",
   "execution_count": null,
   "metadata": {},
   "outputs": [],
   "source": []
  }
 ],
 "metadata": {
  "kernelspec": {
   "display_name": "Python 3",
   "language": "python",
   "name": "python3"
  },
  "language_info": {
   "codemirror_mode": {
    "name": "ipython",
    "version": 3
   },
   "file_extension": ".py",
   "mimetype": "text/x-python",
   "name": "python",
   "nbconvert_exporter": "python",
   "pygments_lexer": "ipython3",
   "version": "3.8.5"
  }
 },
 "nbformat": 4,
 "nbformat_minor": 4
}
